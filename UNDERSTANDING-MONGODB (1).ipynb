{
 "cells": [
  {
   "cell_type": "markdown",
   "metadata": {
    "id": "PGFD3Bdrkjel"
   },
   "source": [
    "# What is MongoDB?\n",
    "\n",
    "MongoDB is an open-source, cross-platform, and distributed document-based database designed for ease of application development and scaling. It is a NoSQL database developed by MongoDB Inc.\n",
    "\n",
    "MongoDB name is derived from the word \"Humongous\" which means huge, enormous. MongoDB database is built to store a huge amount of data and also perform fast.\n",
    "\n",
    "MongoDB is not a Relational Database Management System (RDBMS). It's called a \"NoSQL\" database. It is opposite to SQL based databases where it does not normalize data under schemas and tables where every table has a fixed structure. Instead, it stores data in the collections as JSON based documents and does not enforce schemas. It does not have tables, rows, and columns as other SQL (RDBMS) databases.\n",
    "\n",
    "The following table lists the relation between MongoDB and RDBMS terminologies.\n",
    "\n",
    "|MongoDB (NoSQL Database)\t|RDBMS (SQL Server, Oracle, etc.)|\n",
    "|-------------------------|--------------------------------|\n",
    "|Database\t|Database|\n",
    "|Collection\t|Table|\n",
    "|Document\tRow |Record|\n",
    "|Field\t|Column|\n",
    "\n",
    "In the RDBMS database, a table can have multiple rows and columns. Similarly in MongoDB, a collection can have multiple documents which are equivalent to the rows. Each document has multiple \"fields\" which are equivalent to the columns. Documents in a single collection can have different fields.\n",
    "\n",
    "The following is an example of JSON based document.\n",
    "\n",
    "![m](https://www.tutorialsteacher.com/Content/images/mongodb/document.png)\n",
    "\n",
    "## Advantages of MongoDB\n",
    "\n",
    "* MongoDB stores data as JSON based document that does not enforce the schema. It allows us to store hierarchical data in a document. This makes it easy to store and retrieve data in an efficient manner.\n",
    "* It is easy to scale up or down as per the requirement since it is a document based database. MongoDB also allows us to split data across multiple servers.\n",
    "* MongoDB provides rich features like indexing, aggregation, file store, etc.\n",
    "* MongoDB performs fast with huge data.\n",
    "* MongoDB provides drivers to store and fetch data from different applications developed in different technologies such as C#, Java, Python, Node.js, etc.\n",
    "* MongoDB provides tools to manage MongoDB databases."
   ]
  },
  {
   "cell_type": "code",
   "execution_count": 1,
   "metadata": {
    "colab": {
     "base_uri": "https://localhost:8080/"
    },
    "id": "gSSULN1yoE_9",
    "outputId": "cc0855ed-c518-4e0a-e7e0-952241f4370c"
   },
   "outputs": [
    {
     "name": "stdout",
     "output_type": "stream",
     "text": [
      "Defaulting to user installation because normal site-packages is not writeable\n",
      "Requirement already satisfied: pymongo in /home/osbdet/.local/lib/python3.9/site-packages (4.6.0)\n",
      "Requirement already satisfied: mongoengine in /home/osbdet/.local/lib/python3.9/site-packages (0.27.0)\n",
      "Requirement already satisfied: dnspython<3.0.0,>=1.16.0 in /home/osbdet/.local/lib/python3.9/site-packages (from pymongo) (2.4.2)\n",
      "\n",
      "\u001b[1m[\u001b[0m\u001b[34;49mnotice\u001b[0m\u001b[1;39;49m]\u001b[0m\u001b[39;49m A new release of pip available: \u001b[0m\u001b[31;49m22.3.1\u001b[0m\u001b[39;49m -> \u001b[0m\u001b[32;49m23.3.1\u001b[0m\n",
      "\u001b[1m[\u001b[0m\u001b[34;49mnotice\u001b[0m\u001b[1;39;49m]\u001b[0m\u001b[39;49m To update, run: \u001b[0m\u001b[32;49mpython3 -m pip install --upgrade pip\u001b[0m\n"
     ]
    }
   ],
   "source": [
    "! pip3 install pymongo mongoengine"
   ]
  },
  {
   "cell_type": "code",
   "execution_count": 2,
   "metadata": {
    "id": "-k0USw6voE__"
   },
   "outputs": [],
   "source": [
    "import pymongo\n",
    "from urllib.parse import quote_plus, quote\n",
    "import datetime\n",
    "import pprint as pp\n",
    "import pandas as pd"
   ]
  },
  {
   "cell_type": "code",
   "execution_count": 3,
   "metadata": {
    "id": "6pB3UH9doFAA"
   },
   "outputs": [],
   "source": [
    "#user = \"test\"\n",
    "#passw = \"osbdet123$\"\n",
    "host = \"localhost\""
   ]
  },
  {
   "cell_type": "markdown",
   "metadata": {
    "id": "RXctw_MfoFAB"
   },
   "source": [
    "### CONNECTIONS"
   ]
  },
  {
   "cell_type": "code",
   "execution_count": 4,
   "metadata": {
    "colab": {
     "base_uri": "https://localhost:8080/"
    },
    "id": "YbVOQXra1Ecu",
    "outputId": "60f43c93-cbcb-4a0d-b890-321f26b8b202"
   },
   "outputs": [
    {
     "name": "stdout",
     "output_type": "stream",
     "text": [
      "['admin', 'config', 'local']\n"
     ]
    }
   ],
   "source": [
    "#client = pymongo.MongoClient(\n",
    "#        \"mongodb+srv://{0}:{1}@{2}/?retryWrites=true&w=majority\" \\\n",
    "#            .format(user, passw, host))\n",
    "client = pymongo.MongoClient(host, 27017)\n",
    "print(client.list_database_names())"
   ]
  },
  {
   "cell_type": "markdown",
   "metadata": {},
   "source": [
    "### DATA SAMPLE"
   ]
  },
  {
   "cell_type": "code",
   "execution_count": 5,
   "metadata": {},
   "outputs": [],
   "source": [
    "events_lst = [\n",
    "    \"2017-05-01 12:38:42.747|truck_geo_event|101|13|Suresh Srinivas|12|Des Moines to Chicago|Unsafe tail distance|41.62|-93.58|1|\",\n",
    "    \"2017-05-01 12:38:42.799|truck_speed_event|101|13|Suresh Srinivas|12|Des Moines to Chicago|80|\",\n",
    "    \"2017-05-01 12:38:42.8|truck_geo_event|102|10|George Vetticaden|4|Saint Louis to Tulsa|Normal|38.64|-90.18|1|\",\n",
    "    \"2017-05-01 12:38:42.801|truck_speed_event|102|10|George Vetticaden|4|Saint Louis to Tulsa|65|\",\n",
    "]"
   ]
  },
  {
   "cell_type": "code",
   "execution_count": 6,
   "metadata": {},
   "outputs": [
    {
     "name": "stdout",
     "output_type": "stream",
     "text": [
      "2017-05-01 12:38:42.799|truck_speed_event|101|13|Suresh Srinivas|12|Des Moines to Chicago|80|\n"
     ]
    }
   ],
   "source": [
    "print(events_lst[1])"
   ]
  },
  {
   "cell_type": "markdown",
   "metadata": {
    "id": "vKnQ19KRl--s"
   },
   "source": [
    "### DATABASES\n",
    "\n",
    "A database is a place where data is stored in an organized way. In MongoDB, databases are used to store collections. A single MongoDB server can have multiple databases and a single MongoDB database can have multiple collections."
   ]
  },
  {
   "cell_type": "code",
   "execution_count": 7,
   "metadata": {
    "id": "Srs7ufk8mRJ1"
   },
   "outputs": [],
   "source": [
    "database = \"trucks\""
   ]
  },
  {
   "cell_type": "code",
   "execution_count": 8,
   "metadata": {
    "id": "CUpxziaAmNvd"
   },
   "outputs": [],
   "source": [
    "def connect_to_DB(db_name):\n",
    "    #client = pymongo.MongoClient(\n",
    "    #    \"mongodb+srv://{0}:{1}@{2}/?retryWrites=true&w=majority\" \\\n",
    "    #        .format(user, passw, host))\n",
    "    client = pymongo.MongoClient(host, 27017)\n",
    "    pp.pprint(\"Connected to the MongoDB database!\\nParameters: {0}\" \\\n",
    "        .format(client))\n",
    "    db = client[db_name]\n",
    "    return db"
   ]
  },
  {
   "cell_type": "code",
   "execution_count": 9,
   "metadata": {
    "colab": {
     "base_uri": "https://localhost:8080/"
    },
    "id": "FY5e-8wZmOkQ",
    "outputId": "bea54beb-9965-4375-ba85-25b23f801dc2"
   },
   "outputs": [
    {
     "name": "stdout",
     "output_type": "stream",
     "text": [
      "('Connected to the MongoDB database!\\n'\n",
      " \"Parameters: MongoClient(host=['localhost:27017'], document_class=dict, \"\n",
      " 'tz_aware=False, connect=True)')\n"
     ]
    }
   ],
   "source": [
    "db = connect_to_DB(database)"
   ]
  },
  {
   "cell_type": "markdown",
   "metadata": {
    "id": "FycWYkbxoFAE"
   },
   "source": [
    "#### COLLECTIONS\n",
    "\n",
    "A collection in MongoDB is similar to a table in RDBMS. MongoDB collections do not enforce schemas. Each MongoDB collection can have multiple documents. A document is equilant to row in a table in RDBMS.\n",
    "\n"
   ]
  },
  {
   "cell_type": "code",
   "execution_count": 10,
   "metadata": {
    "id": "noLJq0i1oFAF"
   },
   "outputs": [],
   "source": [
    "events = db.events"
   ]
  },
  {
   "cell_type": "code",
   "execution_count": 11,
   "metadata": {
    "colab": {
     "base_uri": "https://localhost:8080/"
    },
    "id": "OhRZ1KIM5x9_",
    "outputId": "7593d030-4762-4044-bf43-2e037ab9dfd9"
   },
   "outputs": [
    {
     "data": {
      "text/plain": [
       "pymongo.collection.Collection"
      ]
     },
     "execution_count": 11,
     "metadata": {},
     "output_type": "execute_result"
    }
   ],
   "source": [
    "type(events)"
   ]
  },
  {
   "cell_type": "markdown",
   "metadata": {
    "id": "Ee-widpxoFAF"
   },
   "source": [
    "#### DOCUMENTS\n",
    "\n",
    "In the RDBMS database, a table can have multiple rows and columns. Similarly in MongoDB, a collection can have multiple documents which are equivalent to the rows. Each document has multiple \"fields\" which are equivalent to the columns. So in simple terms, each MongoDB document is a record and a collection is a table that can store multiple documents.\n"
   ]
  },
  {
   "cell_type": "markdown",
   "metadata": {},
   "source": [
    "##### Event types and schema  \n",
    "\n",
    "![geo](https://raw.githubusercontent.com/georgevetticaden/sam-trucking-data-utils/master/readme-design-artifacts/truck-geo-event.png)  \n",
    "\n",
    "![speed](https://raw.githubusercontent.com/georgevetticaden/sam-trucking-data-utils/master/readme-design-artifacts/truck-speed-event.png) "
   ]
  },
  {
   "cell_type": "code",
   "execution_count": 12,
   "metadata": {},
   "outputs": [],
   "source": [
    "events_cleaned_lst = []\n",
    "\n",
    "for event in events_lst:\n",
    "    event_dict = {}\n",
    "    event_splitted = event.split(\"|\")\n",
    "    event_datetime_str = event_splitted[0]\n",
    "    event_datetime_dt = datetime.datetime.strptime(\n",
    "        event_datetime_str, \"%Y-%m-%d %H:%M:%S.%f\")\n",
    "    event_source = event_splitted[1].split(\"_\")[1]\n",
    "    truck_id = event_splitted[2]\n",
    "    driver_id = event_splitted[3]\n",
    "    driver_name = event_splitted[4]\n",
    "    route_id = event_splitted[5]\n",
    "    route_name = event_splitted[6]\n",
    "    \n",
    "    event_dict[\"event\"] = {\n",
    "        \"datetime\": event_datetime_dt,\n",
    "        \"source\": event_source,\n",
    "    }\n",
    "    event_dict[\"truck\"] = {\n",
    "        \"id\": truck_id,\n",
    "    }\n",
    "    event_dict[\"driver\"] = {\n",
    "        \"id\": driver_id,\n",
    "        \"name\": driver_name,\n",
    "    }        \n",
    "    event_dict[\"route\"] = {\n",
    "        \"id\": route_id,\n",
    "        \"name\": route_name,\n",
    "    }      \n",
    "    \n",
    "    if \"geo\" in event_source:\n",
    "        _type = event_splitted[7]\n",
    "        latitude = float(event_splitted[8])\n",
    "        longitude = float(event_splitted[9])\n",
    "        correlation_id = event_splitted[10]\n",
    "        \n",
    "        event_dict[\"type\"] = _type\n",
    "        event_dict[\"position\"] = {\n",
    "            \"latitude\": latitude,\n",
    "            \"longitude\": longitude,\n",
    "        }\n",
    "        event_dict[\"corr_id\"] = correlation_id\n",
    "        \n",
    "    elif \"speed\" in event_source:\n",
    "        speed = int(event_splitted[7])\n",
    "        event_dict[\"speed\"] = speed     \n",
    "  \n",
    "    events_cleaned_lst.append(event_dict)\n",
    "    #pp.pprint(event_dict)"
   ]
  },
  {
   "cell_type": "code",
   "execution_count": 13,
   "metadata": {
    "colab": {
     "base_uri": "https://localhost:8080/"
    },
    "id": "BUgQMWpZoFAG",
    "outputId": "fed480de-8e89-4ade-d371-7ff15b900bc9"
   },
   "outputs": [
    {
     "name": "stdout",
     "output_type": "stream",
     "text": [
      "654870e701044c893ffa8f16\n"
     ]
    }
   ],
   "source": [
    "event = events_cleaned_lst[0]\n",
    "event_id = events.insert_one(event).inserted_id\n",
    "print(event_id)"
   ]
  },
  {
   "cell_type": "code",
   "execution_count": 14,
   "metadata": {
    "colab": {
     "base_uri": "https://localhost:8080/"
    },
    "id": "bUp-ui5eoFAI",
    "outputId": "d7ddfb70-12c5-43a1-d3a3-13747e506431"
   },
   "outputs": [
    {
     "data": {
      "text/plain": [
       "bson.objectid.ObjectId"
      ]
     },
     "execution_count": 14,
     "metadata": {},
     "output_type": "execute_result"
    }
   ],
   "source": [
    "type(event_id)"
   ]
  },
  {
   "cell_type": "code",
   "execution_count": 15,
   "metadata": {
    "id": "c-FAnHb1oFAI"
   },
   "outputs": [],
   "source": [
    "str_event_id = str(event_id)\n",
    "#str_event_id = \"6366b2c9c5b6129baf54cff1\""
   ]
  },
  {
   "cell_type": "markdown",
   "metadata": {
    "id": "u-VuDCgvoFAJ"
   },
   "source": [
    "#### FIND ONE DOCUMENT\n",
    "\n",
    "In MongoDB, a collection represents a table in RDBMS and a document is like a record in a table. Here you will learn how to retrieve or find a single document from a collection."
   ]
  },
  {
   "cell_type": "code",
   "execution_count": 16,
   "metadata": {
    "colab": {
     "base_uri": "https://localhost:8080/"
    },
    "id": "pTvuEAhkoFAJ",
    "outputId": "15b33923-9780-4ba0-80b4-b798636760c5"
   },
   "outputs": [
    {
     "name": "stdout",
     "output_type": "stream",
     "text": [
      "{'_id': ObjectId('654870e701044c893ffa8f16'),\n",
      " 'corr_id': '1',\n",
      " 'driver': {'id': '13', 'name': 'Suresh Srinivas'},\n",
      " 'event': {'datetime': datetime.datetime(2017, 5, 1, 12, 38, 42, 747000),\n",
      "           'source': 'geo'},\n",
      " 'position': {'latitude': 41.62, 'longitude': -93.58},\n",
      " 'route': {'id': '12', 'name': 'Des Moines to Chicago'},\n",
      " 'truck': {'id': '101'},\n",
      " 'type': 'Unsafe tail distance'}\n"
     ]
    }
   ],
   "source": [
    "from bson.objectid import ObjectId\n",
    "\n",
    "pp.pprint(events.find_one({\"_id\": ObjectId(str_event_id)}))"
   ]
  },
  {
   "cell_type": "code",
   "execution_count": 17,
   "metadata": {
    "colab": {
     "base_uri": "https://localhost:8080/"
    },
    "id": "e17A5mc3oFAK",
    "outputId": "482e6ab0-ca51-4de3-d72e-ab1132321238"
   },
   "outputs": [
    {
     "name": "stdout",
     "output_type": "stream",
     "text": [
      "None\n"
     ]
    }
   ],
   "source": [
    "pp.pprint(events.find_one({\"_id\": str_event_id}))"
   ]
  },
  {
   "cell_type": "markdown",
   "metadata": {
    "id": "gS5jtSuFoFAK"
   },
   "source": [
    "#### SHOW COLLECTION LIST"
   ]
  },
  {
   "cell_type": "code",
   "execution_count": 18,
   "metadata": {
    "colab": {
     "base_uri": "https://localhost:8080/"
    },
    "id": "HHPHUiVhoFAK",
    "outputId": "02558e84-4c75-4d82-d98a-2146c116e38b"
   },
   "outputs": [
    {
     "name": "stdout",
     "output_type": "stream",
     "text": [
      "['events']\n"
     ]
    }
   ],
   "source": [
    "print(db.list_collection_names())"
   ]
  },
  {
   "cell_type": "markdown",
   "metadata": {
    "id": "evrCIZejoFAL"
   },
   "source": [
    "#### CREATE MULTIPLE DOCUMENTS"
   ]
  },
  {
   "cell_type": "code",
   "execution_count": 19,
   "metadata": {
    "colab": {
     "base_uri": "https://localhost:8080/"
    },
    "id": "XrgJZuH8oFAL",
    "outputId": "c5ab9edb-5226-422c-bb2a-9eb6e1d4e549"
   },
   "outputs": [
    {
     "name": "stdout",
     "output_type": "stream",
     "text": [
      "654870ee01044c893ffa8f17\n",
      "654870ee01044c893ffa8f18\n",
      "654870ee01044c893ffa8f19\n"
     ]
    }
   ],
   "source": [
    "result = events.insert_many(events_cleaned_lst[1:])\n",
    "for result in result.inserted_ids:\n",
    "    print(result)"
   ]
  },
  {
   "cell_type": "code",
   "execution_count": 20,
   "metadata": {
    "colab": {
     "base_uri": "https://localhost:8080/"
    },
    "id": "Vw2AffJjoFAL",
    "outputId": "413aa697-8b0e-4374-86e6-d3a3880e49c4"
   },
   "outputs": [
    {
     "name": "stdout",
     "output_type": "stream",
     "text": [
      "['events']\n"
     ]
    }
   ],
   "source": [
    "print(db.list_collection_names())"
   ]
  },
  {
   "cell_type": "markdown",
   "metadata": {
    "id": "RDcC4qocoFAM"
   },
   "source": [
    "#### COUNT DOCUMENTS IN A COLLECTION"
   ]
  },
  {
   "cell_type": "code",
   "execution_count": 21,
   "metadata": {
    "colab": {
     "base_uri": "https://localhost:8080/"
    },
    "id": "SF2rmbNXoFAM",
    "outputId": "efeb659c-a8ef-43f1-fe9e-a37401d507a8"
   },
   "outputs": [
    {
     "data": {
      "text/plain": [
       "4"
      ]
     },
     "execution_count": 21,
     "metadata": {},
     "output_type": "execute_result"
    }
   ],
   "source": [
    "events.count_documents({})"
   ]
  },
  {
   "cell_type": "code",
   "execution_count": 22,
   "metadata": {
    "colab": {
     "base_uri": "https://localhost:8080/"
    },
    "id": "X3czcg2YHrJd",
    "outputId": "76f5c91d-82ee-4dcf-f86a-69ccf3ab3673"
   },
   "outputs": [
    {
     "data": {
      "text/plain": [
       "2"
      ]
     },
     "execution_count": 22,
     "metadata": {},
     "output_type": "execute_result"
    }
   ],
   "source": [
    "events.count_documents({\n",
    "    \"event.source\": \"geo\"})"
   ]
  },
  {
   "cell_type": "code",
   "execution_count": 23,
   "metadata": {
    "colab": {
     "base_uri": "https://localhost:8080/"
    },
    "id": "Ze48vvjIoFAM",
    "outputId": "2def0e98-071a-4a82-cdd9-6d078500b093"
   },
   "outputs": [
    {
     "data": {
      "text/plain": [
       "1"
      ]
     },
     "execution_count": 23,
     "metadata": {},
     "output_type": "execute_result"
    }
   ],
   "source": [
    "events.count_documents({\n",
    "    \"event.source\": \"geo\",\n",
    "    \"type\": \"Unsafe tail distance\"})"
   ]
  },
  {
   "cell_type": "code",
   "execution_count": 24,
   "metadata": {
    "colab": {
     "base_uri": "https://localhost:8080/"
    },
    "id": "JzYPp1HZHyMi",
    "outputId": "a561a6c6-f6d7-44e1-ca0d-54865781a0d9"
   },
   "outputs": [
    {
     "data": {
      "text/plain": [
       "1"
      ]
     },
     "execution_count": 24,
     "metadata": {},
     "output_type": "execute_result"
    }
   ],
   "source": [
    "events.count_documents({\n",
    "    \"speed\": 80})"
   ]
  },
  {
   "cell_type": "code",
   "execution_count": 25,
   "metadata": {
    "colab": {
     "base_uri": "https://localhost:8080/"
    },
    "id": "TkQfTPySIUXq",
    "outputId": "edef9be8-08b3-44e5-9018-54f920003773"
   },
   "outputs": [
    {
     "data": {
      "text/plain": [
       "{'_id': ObjectId('654870ee01044c893ffa8f17'),\n",
       " 'event': {'datetime': datetime.datetime(2017, 5, 1, 12, 38, 42, 799000),\n",
       "  'source': 'speed'},\n",
       " 'truck': {'id': '101'},\n",
       " 'driver': {'id': '13', 'name': 'Suresh Srinivas'},\n",
       " 'route': {'id': '12', 'name': 'Des Moines to Chicago'},\n",
       " 'speed': 80}"
      ]
     },
     "execution_count": 25,
     "metadata": {},
     "output_type": "execute_result"
    }
   ],
   "source": [
    "event = events.find_one(\n",
    "    {\"speed\": 80})\n",
    "event"
   ]
  },
  {
   "cell_type": "markdown",
   "metadata": {
    "id": "3pCQUzfwoFAN"
   },
   "source": [
    "#### QUERIES\n",
    "\n",
    "In MongoDB, a collection represents a table in RDBMS and a document is like a record in a table. Here you will learn how to retrieve or find one or more documents from a collection.\n",
    "\n",
    "**collection.find({ < query > }, { < fields > })**.\n",
    "\n",
    "![OPERATORS](https://miro.medium.com/max/640/1*S4uhMlJ173rK_qOoN25j8Q.png)  \n",
    "![LOGICALS](https://miro.medium.com/max/640/1*uR9igCWQyngNY0cNnLpMJg.png)"
   ]
  },
  {
   "cell_type": "code",
   "execution_count": 26,
   "metadata": {
    "colab": {
     "base_uri": "https://localhost:8080/"
    },
    "id": "m-cj3aFhoFAO",
    "outputId": "e458d4e2-3781-4cb0-f43d-1aa9a2d0ebc8"
   },
   "outputs": [
    {
     "name": "stdout",
     "output_type": "stream",
     "text": [
      "{'_id': ObjectId('654870e701044c893ffa8f16'),\n",
      " 'corr_id': '1',\n",
      " 'driver': {'id': '13', 'name': 'Suresh Srinivas'},\n",
      " 'event': {'datetime': datetime.datetime(2017, 5, 1, 12, 38, 42, 747000),\n",
      "           'source': 'geo'},\n",
      " 'position': {'latitude': 41.62, 'longitude': -93.58},\n",
      " 'route': {'id': '12', 'name': 'Des Moines to Chicago'},\n",
      " 'truck': {'id': '101'},\n",
      " 'type': 'Unsafe tail distance'}\n",
      "{'_id': ObjectId('654870ee01044c893ffa8f17'),\n",
      " 'driver': {'id': '13', 'name': 'Suresh Srinivas'},\n",
      " 'event': {'datetime': datetime.datetime(2017, 5, 1, 12, 38, 42, 799000),\n",
      "           'source': 'speed'},\n",
      " 'route': {'id': '12', 'name': 'Des Moines to Chicago'},\n",
      " 'speed': 80,\n",
      " 'truck': {'id': '101'}}\n",
      "{'_id': ObjectId('654870ee01044c893ffa8f18'),\n",
      " 'corr_id': '1',\n",
      " 'driver': {'id': '10', 'name': 'George Vetticaden'},\n",
      " 'event': {'datetime': datetime.datetime(2017, 5, 1, 12, 38, 42, 800000),\n",
      "           'source': 'geo'},\n",
      " 'position': {'latitude': 38.64, 'longitude': -90.18},\n",
      " 'route': {'id': '4', 'name': 'Saint Louis to Tulsa'},\n",
      " 'truck': {'id': '102'},\n",
      " 'type': 'Normal'}\n",
      "{'_id': ObjectId('654870ee01044c893ffa8f19'),\n",
      " 'driver': {'id': '10', 'name': 'George Vetticaden'},\n",
      " 'event': {'datetime': datetime.datetime(2017, 5, 1, 12, 38, 42, 801000),\n",
      "           'source': 'speed'},\n",
      " 'route': {'id': '4', 'name': 'Saint Louis to Tulsa'},\n",
      " 'speed': 65,\n",
      " 'truck': {'id': '102'}}\n"
     ]
    }
   ],
   "source": [
    "for event in events.find():\n",
    "    pp.pprint(event)"
   ]
  },
  {
   "cell_type": "code",
   "execution_count": 27,
   "metadata": {
    "colab": {
     "base_uri": "https://localhost:8080/"
    },
    "id": "jyYIoNlWoFAO",
    "outputId": "f33b6d4e-6bb2-44fc-fad4-f0d349d3cd18"
   },
   "outputs": [
    {
     "name": "stdout",
     "output_type": "stream",
     "text": [
      "{'_id': ObjectId('654870ee01044c893ffa8f19'),\n",
      " 'driver': {'id': '10', 'name': 'George Vetticaden'},\n",
      " 'event': {'datetime': datetime.datetime(2017, 5, 1, 12, 38, 42, 801000),\n",
      "           'source': 'speed'},\n",
      " 'route': {'id': '4', 'name': 'Saint Louis to Tulsa'},\n",
      " 'speed': 65,\n",
      " 'truck': {'id': '102'}}\n",
      "{'_id': ObjectId('654870ee01044c893ffa8f18'),\n",
      " 'corr_id': '1',\n",
      " 'driver': {'id': '10', 'name': 'George Vetticaden'},\n",
      " 'event': {'datetime': datetime.datetime(2017, 5, 1, 12, 38, 42, 800000),\n",
      "           'source': 'geo'},\n",
      " 'position': {'latitude': 38.64, 'longitude': -90.18},\n",
      " 'route': {'id': '4', 'name': 'Saint Louis to Tulsa'},\n",
      " 'truck': {'id': '102'},\n",
      " 'type': 'Normal'}\n",
      "{'_id': ObjectId('654870ee01044c893ffa8f17'),\n",
      " 'driver': {'id': '13', 'name': 'Suresh Srinivas'},\n",
      " 'event': {'datetime': datetime.datetime(2017, 5, 1, 12, 38, 42, 799000),\n",
      "           'source': 'speed'},\n",
      " 'route': {'id': '12', 'name': 'Des Moines to Chicago'},\n",
      " 'speed': 80,\n",
      " 'truck': {'id': '101'}}\n",
      "{'_id': ObjectId('654870e701044c893ffa8f16'),\n",
      " 'corr_id': '1',\n",
      " 'driver': {'id': '13', 'name': 'Suresh Srinivas'},\n",
      " 'event': {'datetime': datetime.datetime(2017, 5, 1, 12, 38, 42, 747000),\n",
      "           'source': 'geo'},\n",
      " 'position': {'latitude': 41.62, 'longitude': -93.58},\n",
      " 'route': {'id': '12', 'name': 'Des Moines to Chicago'},\n",
      " 'truck': {'id': '101'},\n",
      " 'type': 'Unsafe tail distance'}\n"
     ]
    }
   ],
   "source": [
    "for event in events.find().sort(\"event.datetime\", -1):#.limit(2):\n",
    "    pp.pprint(event)"
   ]
  },
  {
   "cell_type": "code",
   "execution_count": 28,
   "metadata": {
    "colab": {
     "base_uri": "https://localhost:8080/"
    },
    "id": "Y7vhRiv_Jt6R",
    "outputId": "4379bb2a-c696-470f-de08-b8ae84711cc5"
   },
   "outputs": [
    {
     "name": "stdout",
     "output_type": "stream",
     "text": [
      "{'_id': ObjectId('654870ee01044c893ffa8f17'),\n",
      " 'driver': {'id': '13', 'name': 'Suresh Srinivas'},\n",
      " 'event': {'datetime': datetime.datetime(2017, 5, 1, 12, 38, 42, 799000),\n",
      "           'source': 'speed'},\n",
      " 'route': {'id': '12', 'name': 'Des Moines to Chicago'},\n",
      " 'speed': 80,\n",
      " 'truck': {'id': '101'}}\n",
      "{'_id': ObjectId('654870ee01044c893ffa8f19'),\n",
      " 'driver': {'id': '10', 'name': 'George Vetticaden'},\n",
      " 'event': {'datetime': datetime.datetime(2017, 5, 1, 12, 38, 42, 801000),\n",
      "           'source': 'speed'},\n",
      " 'route': {'id': '4', 'name': 'Saint Louis to Tulsa'},\n",
      " 'speed': 65,\n",
      " 'truck': {'id': '102'}}\n"
     ]
    }
   ],
   "source": [
    "for event in events.find({\"speed\": {\"$exists\": True}}):\n",
    "    pp.pprint(event)"
   ]
  },
  {
   "cell_type": "code",
   "execution_count": 29,
   "metadata": {
    "colab": {
     "base_uri": "https://localhost:8080/"
    },
    "id": "pkvvOhA6oFAO",
    "outputId": "2326390a-f604-47b3-cd4c-c84e01293fd4"
   },
   "outputs": [
    {
     "name": "stdout",
     "output_type": "stream",
     "text": [
      "{'_id': ObjectId('654870ee01044c893ffa8f18'),\n",
      " 'corr_id': '1',\n",
      " 'driver': {'id': '10', 'name': 'George Vetticaden'},\n",
      " 'event': {'datetime': datetime.datetime(2017, 5, 1, 12, 38, 42, 800000),\n",
      "           'source': 'geo'},\n",
      " 'position': {'latitude': 38.64, 'longitude': -90.18},\n",
      " 'route': {'id': '4', 'name': 'Saint Louis to Tulsa'},\n",
      " 'truck': {'id': '102'},\n",
      " 'type': 'Normal'}\n"
     ]
    }
   ],
   "source": [
    "for event in events.find({\"position.latitude\": 38.64}):\n",
    "    pp.pprint(event)"
   ]
  },
  {
   "cell_type": "code",
   "execution_count": 30,
   "metadata": {
    "colab": {
     "base_uri": "https://localhost:8080/"
    },
    "id": "sCIlK9uNoFAO",
    "outputId": "edab102e-3a7a-4180-e316-d9203e1ba1b1"
   },
   "outputs": [
    {
     "name": "stdout",
     "output_type": "stream",
     "text": [
      "{'_id': ObjectId('654870e701044c893ffa8f16'),\n",
      " 'corr_id': '1',\n",
      " 'driver': {'id': '13', 'name': 'Suresh Srinivas'},\n",
      " 'event': {'datetime': datetime.datetime(2017, 5, 1, 12, 38, 42, 747000),\n",
      "           'source': 'geo'},\n",
      " 'position': {'latitude': 41.62, 'longitude': -93.58},\n",
      " 'route': {'id': '12', 'name': 'Des Moines to Chicago'},\n",
      " 'truck': {'id': '101'},\n",
      " 'type': 'Unsafe tail distance'}\n",
      "{'_id': ObjectId('654870ee01044c893ffa8f18'),\n",
      " 'corr_id': '1',\n",
      " 'driver': {'id': '10', 'name': 'George Vetticaden'},\n",
      " 'event': {'datetime': datetime.datetime(2017, 5, 1, 12, 38, 42, 800000),\n",
      "           'source': 'geo'},\n",
      " 'position': {'latitude': 38.64, 'longitude': -90.18},\n",
      " 'route': {'id': '4', 'name': 'Saint Louis to Tulsa'},\n",
      " 'truck': {'id': '102'},\n",
      " 'type': 'Normal'}\n",
      "{'_id': ObjectId('654870ee01044c893ffa8f19'),\n",
      " 'driver': {'id': '10', 'name': 'George Vetticaden'},\n",
      " 'event': {'datetime': datetime.datetime(2017, 5, 1, 12, 38, 42, 801000),\n",
      "           'source': 'speed'},\n",
      " 'route': {'id': '4', 'name': 'Saint Louis to Tulsa'},\n",
      " 'speed': 65,\n",
      " 'truck': {'id': '102'}}\n",
      "{'_id': ObjectId('654870ee01044c893ffa8f17'),\n",
      " 'driver': {'id': '13', 'name': 'Suresh Srinivas'},\n",
      " 'event': {'datetime': datetime.datetime(2017, 5, 1, 12, 38, 42, 799000),\n",
      "           'source': 'speed'},\n",
      " 'route': {'id': '12', 'name': 'Des Moines to Chicago'},\n",
      " 'speed': 80,\n",
      " 'truck': {'id': '101'}}\n"
     ]
    }
   ],
   "source": [
    "d = datetime.datetime(2022, 10, 31)\n",
    "for event in events.find({\"event.datetime\": {\"$lt\": d}}).sort(\"speed\"):\n",
    "    pp.pprint(event)"
   ]
  },
  {
   "cell_type": "code",
   "execution_count": 33,
   "metadata": {
    "colab": {
     "base_uri": "https://localhost:8080/"
    },
    "id": "tlV5OlAyoFAP",
    "outputId": "b874c108-f5da-4dc5-ee78-9b47581168ed"
   },
   "outputs": [
    {
     "name": "stdout",
     "output_type": "stream",
     "text": [
      "{'_id': ObjectId('654870e701044c893ffa8f16'),\n",
      " 'driver': {'name': 'Suresh Srinivas'}}\n",
      "{'_id': ObjectId('654870ee01044c893ffa8f17'),\n",
      " 'driver': {'name': 'Suresh Srinivas'}}\n",
      "{'_id': ObjectId('654870ee01044c893ffa8f18'),\n",
      " 'driver': {'name': 'George Vetticaden'}}\n",
      "{'_id': ObjectId('654870ee01044c893ffa8f19'),\n",
      " 'driver': {'name': 'George Vetticaden'}}\n"
     ]
    }
   ],
   "source": [
    "d = datetime.datetime(2022, 10, 31)\n",
    "for event in events.find(\n",
    "    {\"event.datetime\": \n",
    "        {\"$lt\": d}},\n",
    "    {\"driver.name\"}):\n",
    "    pp.pprint(event)"
   ]
  },
  {
   "cell_type": "code",
   "execution_count": 35,
   "metadata": {
    "colab": {
     "base_uri": "https://localhost:8080/"
    },
    "id": "9JLMexxEMrrh",
    "outputId": "9f7ac8bb-f7fa-4f5e-e670-4b2451237746"
   },
   "outputs": [
    {
     "name": "stdout",
     "output_type": "stream",
     "text": [
      "{'_id': ObjectId('654870e701044c893ffa8f16'),\n",
      " 'driver': {'name': 'Suresh Srinivas'},\n",
      " 'route': {'name': 'Des Moines to Chicago'}}\n",
      "{'_id': ObjectId('654870ee01044c893ffa8f17'),\n",
      " 'driver': {'name': 'Suresh Srinivas'},\n",
      " 'route': {'name': 'Des Moines to Chicago'},\n",
      " 'speed': 80}\n"
     ]
    }
   ],
   "source": [
    "d = datetime.datetime(2022, 10, 31)\n",
    "for event in events.find(\n",
    "    {\"$and\": [\n",
    "        {\"event.datetime\": {\"$lt\": d}},\n",
    "        {\"driver.name\": \"Suresh Srinivas\"}]},\n",
    "    {\"driver.name\", \"route.name\", \"speed\"}):\n",
    "    pp.pprint(event)"
   ]
  },
  {
   "cell_type": "code",
   "execution_count": 41,
   "metadata": {
    "colab": {
     "base_uri": "https://localhost:8080/"
    },
    "id": "s2EpJWHWRHLb",
    "outputId": "036ff9ed-83f2-410f-97b5-3f3fff00b57b"
   },
   "outputs": [
    {
     "name": "stdout",
     "output_type": "stream",
     "text": [
      "{'_id': ObjectId('654870ee01044c893ffa8f18'),\n",
      " 'corr_id': '1',\n",
      " 'driver': {'id': '10', 'name': 'George Vetticaden'},\n",
      " 'event': {'datetime': datetime.datetime(2017, 5, 1, 12, 38, 42, 800000),\n",
      "           'source': 'geo'},\n",
      " 'position': {'latitude': 38.64, 'longitude': -90.18},\n",
      " 'route': {'id': '4', 'name': 'Saint Louis to Tulsa'},\n",
      " 'truck': {'id': '102'},\n",
      " 'type': 'Normal'}\n",
      "{'_id': ObjectId('654870ee01044c893ffa8f19'),\n",
      " 'driver': {'id': '10', 'name': 'George Vetticaden'},\n",
      " 'event': {'datetime': datetime.datetime(2017, 5, 1, 12, 38, 42, 801000),\n",
      "           'source': 'speed'},\n",
      " 'route': {'id': '4', 'name': 'Saint Louis to Tulsa'},\n",
      " 'speed': 65,\n",
      " 'truck': {'id': '102'}}\n"
     ]
    }
   ],
   "source": [
    "for event in events.find({\n",
    "     \"driver.name\" : {\"$in\": [\"George Vetticaden\", \"Edward Collins\"]}}):\n",
    "    pp.pprint(event)"
   ]
  },
  {
   "cell_type": "code",
   "execution_count": 43,
   "metadata": {
    "colab": {
     "base_uri": "https://localhost:8080/"
    },
    "id": "9olou25sRvo3",
    "outputId": "9ae898b1-9e32-4eb9-ab78-ea20de362a63"
   },
   "outputs": [
    {
     "name": "stdout",
     "output_type": "stream",
     "text": [
      "{'_id': ObjectId('654870ee01044c893ffa8f19'),\n",
      " 'driver': {'id': '10', 'name': 'George Vetticaden'},\n",
      " 'event': {'datetime': datetime.datetime(2017, 5, 1, 12, 38, 42, 801000),\n",
      "           'source': 'speed'},\n",
      " 'route': {'id': '4', 'name': 'Saint Louis to Tulsa'},\n",
      " 'speed': 65,\n",
      " 'truck': {'id': '102'}}\n"
     ]
    }
   ],
   "source": [
    "for event in events.find({\n",
    "     \"driver.name\" : {\"$in\": [\"George Vetticaden\", \"Edward Collins\"]},\n",
    "     \"speed\" : 65}):\n",
    "    pp.pprint(event)"
   ]
  },
  {
   "cell_type": "markdown",
   "metadata": {
    "id": "d3fQSLvooFAT"
   },
   "source": [
    "#### DATA UPDATES\n",
    "\n",
    "We may also want to update data that we have previously added to a collection. Again, we can update one or more records. Let's say we accidentally added the wrong email to a user. Here we can use the update_one function passing the field we want to update by searching for the key/value pair and then use the $set option (preceded by a dollar sign) specifying the key and the new value. This will overwrite the initial value with the new one."
   ]
  },
  {
   "cell_type": "code",
   "execution_count": 47,
   "metadata": {
    "colab": {
     "base_uri": "https://localhost:8080/"
    },
    "id": "IG3ec3SYoFAT",
    "outputId": "093cada5-9f75-45ab-e46e-c7c788d992d1"
   },
   "outputs": [
    {
     "name": "stdout",
     "output_type": "stream",
     "text": [
      "{'_id': ObjectId('654870ee01044c893ffa8f19'),\n",
      " 'driver': {'id': '10', 'name': 'George Vetticaden'},\n",
      " 'event': {'datetime': datetime.datetime(2017, 5, 1, 12, 38, 42, 801000),\n",
      "           'source': 'speed'},\n",
      " 'route': {'id': '4', 'name': 'Saint Louis to Tulsa'},\n",
      " 'speed': 65,\n",
      " 'truck': {'id': '102'}}\n"
     ]
    }
   ],
   "source": [
    "for event in events.find({\"speed\": 65}):\n",
    "    pp.pprint(event)"
   ]
  },
  {
   "cell_type": "code",
   "execution_count": 48,
   "metadata": {
    "colab": {
     "base_uri": "https://localhost:8080/"
    },
    "id": "7k7oTbN4oFAT",
    "outputId": "7d2dcc08-cd26-4c68-b989-a4d063791e2c"
   },
   "outputs": [
    {
     "data": {
      "text/plain": [
       "UpdateResult({'n': 1, 'nModified': 1, 'ok': 1.0, 'updatedExisting': True}, acknowledged=True)"
      ]
     },
     "execution_count": 48,
     "metadata": {},
     "output_type": "execute_result"
    }
   ],
   "source": [
    "to_search = {\"speed\": 65}\n",
    "to_change = {\"$set\": {\n",
    "    \"speed\": 75,\n",
    "    \"modified\": True}}\n",
    "\n",
    "events.update_one(to_search, to_change)"
   ]
  },
  {
   "cell_type": "code",
   "execution_count": 50,
   "metadata": {
    "id": "pUxTSt8EoFAU"
   },
   "outputs": [],
   "source": [
    "for event in events.find({\"speed\": 65}):\n",
    "    pp.pprint(event)"
   ]
  },
  {
   "cell_type": "code",
   "execution_count": 51,
   "metadata": {
    "colab": {
     "base_uri": "https://localhost:8080/"
    },
    "id": "2EsIB7SONm82",
    "outputId": "542b3b37-0681-47e2-8777-38224706ea8f"
   },
   "outputs": [],
   "source": [
    "for event in events.find({\"speed\": 65}):\n",
    "    pp.pprint(event)"
   ]
  },
  {
   "cell_type": "code",
   "execution_count": 57,
   "metadata": {
    "colab": {
     "base_uri": "https://localhost:8080/"
    },
    "id": "1yzdsTx7oFAU",
    "outputId": "0a7b70ef-0d1e-44bf-9309-fd098c410dfb"
   },
   "outputs": [
    {
     "name": "stdout",
     "output_type": "stream",
     "text": [
      "{'_id': ObjectId('654870ee01044c893ffa8f18'),\n",
      " 'corr_id': '1',\n",
      " 'driver': {'id': '10', 'name': 'George Vetticaden'},\n",
      " 'event': {'datetime': datetime.datetime(2017, 5, 1, 12, 38, 42, 800000),\n",
      "           'source': 'geo'},\n",
      " 'position': {'latitude': 38.64, 'longitude': -90.18},\n",
      " 'route': {'id': '4', 'name': 'Saint Louis to Tulsa'},\n",
      " 'truck': {'id': '102'},\n",
      " 'type': 'Normal'}\n",
      "{'_id': ObjectId('654870ee01044c893ffa8f19'),\n",
      " 'driver': {'id': '10', 'name': 'George Vetticaden'},\n",
      " 'event': {'datetime': datetime.datetime(2017, 5, 1, 12, 38, 42, 801000),\n",
      "           'source': 'speed'},\n",
      " 'modified': True,\n",
      " 'route': {'id': '4', 'name': 'Saint Louis to Tulsa'},\n",
      " 'speed': 75,\n",
      " 'truck': {'id': '102'}}\n"
     ]
    }
   ],
   "source": [
    "# WHERE route.name LIKE 'Saint Louis%'\n",
    "# WHERE route.name LIKE '%Saint Louis%'\n",
    "for event in events.find({\"route.name\": {\"$regex\": \"^Saint Louis\"}}):\n",
    "    pp.pprint(event)"
   ]
  },
  {
   "cell_type": "code",
   "execution_count": 58,
   "metadata": {
    "colab": {
     "base_uri": "https://localhost:8080/"
    },
    "id": "tPwVDrV8oFAU",
    "outputId": "fb2483d6-1bfa-4f03-aea1-dc167d7edcc8"
   },
   "outputs": [
    {
     "name": "stdout",
     "output_type": "stream",
     "text": [
      "2 documents updated.\n"
     ]
    }
   ],
   "source": [
    "to_search = {\"route.name\": {\"$regex\": \"^Saint Louis\"}}\n",
    "to_change = {\"$set\": {\"route.name\": \"Saint Gobain\"}}\n",
    "\n",
    "num = events.update_many(to_search, to_change)\n",
    "print(num.modified_count, \"documents updated.\")"
   ]
  },
  {
   "cell_type": "code",
   "execution_count": 60,
   "metadata": {
    "colab": {
     "base_uri": "https://localhost:8080/"
    },
    "id": "gK6ECuvAoFAV",
    "outputId": "92af90dd-269c-4b1d-c570-352427a2c81f"
   },
   "outputs": [
    {
     "name": "stdout",
     "output_type": "stream",
     "text": [
      "{'_id': ObjectId('654870ee01044c893ffa8f18'),\n",
      " 'corr_id': '1',\n",
      " 'driver': {'id': '10', 'name': 'George Vetticaden'},\n",
      " 'event': {'datetime': datetime.datetime(2017, 5, 1, 12, 38, 42, 800000),\n",
      "           'source': 'geo'},\n",
      " 'position': {'latitude': 38.64, 'longitude': -90.18},\n",
      " 'route': {'id': '4', 'name': 'Saint Gobain'},\n",
      " 'truck': {'id': '102'},\n",
      " 'type': 'Normal'}\n",
      "{'_id': ObjectId('654870ee01044c893ffa8f19'),\n",
      " 'driver': {'id': '10', 'name': 'George Vetticaden'},\n",
      " 'event': {'datetime': datetime.datetime(2017, 5, 1, 12, 38, 42, 801000),\n",
      "           'source': 'speed'},\n",
      " 'modified': True,\n",
      " 'route': {'id': '4', 'name': 'Saint Gobain'},\n",
      " 'speed': 75,\n",
      " 'truck': {'id': '102'}}\n"
     ]
    }
   ],
   "source": [
    "for event in events.find({\"route.name\": {\"$regex\": \"^Saint\"}}):\n",
    "    pp.pprint(event)"
   ]
  },
  {
   "cell_type": "code",
   "execution_count": 61,
   "metadata": {
    "colab": {
     "base_uri": "https://localhost:8080/"
    },
    "id": "ZRfOlSHQSAag",
    "outputId": "76d5c426-97af-451e-9603-9e3018f60b88"
   },
   "outputs": [
    {
     "name": "stdout",
     "output_type": "stream",
     "text": [
      "{'_id': ObjectId('654870e701044c893ffa8f16'),\n",
      " 'corr_id': '1',\n",
      " 'driver': {'id': '13', 'name': 'Suresh Srinivas'},\n",
      " 'event': {'datetime': datetime.datetime(2017, 5, 1, 12, 38, 42, 747000),\n",
      "           'source': 'geo'},\n",
      " 'position': {'latitude': 41.62, 'longitude': -93.58},\n",
      " 'route': {'id': '12', 'name': 'Des Moines to Chicago'},\n",
      " 'truck': {'id': '101'},\n",
      " 'type': 'Unsafe tail distance'}\n",
      "{'_id': ObjectId('654870ee01044c893ffa8f17'),\n",
      " 'driver': {'id': '13', 'name': 'Suresh Srinivas'},\n",
      " 'event': {'datetime': datetime.datetime(2017, 5, 1, 12, 38, 42, 799000),\n",
      "           'source': 'speed'},\n",
      " 'route': {'id': '12', 'name': 'Des Moines to Chicago'},\n",
      " 'speed': 80,\n",
      " 'truck': {'id': '101'}}\n"
     ]
    }
   ],
   "source": [
    "for event in events.find({\"route.name\": {\"$regex\": \"Chicago$\"}}):\n",
    "    pp.pprint(event)"
   ]
  },
  {
   "cell_type": "markdown",
   "metadata": {
    "id": "vN298huvoFAW"
   },
   "source": [
    "#### INDEXES"
   ]
  },
  {
   "cell_type": "code",
   "execution_count": 62,
   "metadata": {
    "colab": {
     "base_uri": "https://localhost:8080/"
    },
    "id": "UqerttwboFAW",
    "outputId": "cd1a9460-8e82-43e8-98f2-24975c573a69"
   },
   "outputs": [
    {
     "data": {
      "text/plain": [
       "{'_id_': {'v': 2, 'key': [('_id', 1)]}}"
      ]
     },
     "execution_count": 62,
     "metadata": {},
     "output_type": "execute_result"
    }
   ],
   "source": [
    "events.index_information()"
   ]
  },
  {
   "cell_type": "code",
   "execution_count": 64,
   "metadata": {
    "id": "EKtnANU0oFAW",
    "outputId": "c42ae4a1-ff1a-466b-ca90-1dc205b5ea16"
   },
   "outputs": [
    {
     "name": "stdout",
     "output_type": "stream",
     "text": [
      "{'allPlansExecution': [],\n",
      " 'executionStages': {'advanced': 1,\n",
      "                     'direction': 'forward',\n",
      "                     'docsExamined': 4,\n",
      "                     'executionTimeMillisEstimate': 0,\n",
      "                     'filter': {'position.latitude': {'$eq': 38.64}},\n",
      "                     'isEOF': 1,\n",
      "                     'nReturned': 1,\n",
      "                     'needTime': 4,\n",
      "                     'needYield': 0,\n",
      "                     'restoreState': 0,\n",
      "                     'saveState': 0,\n",
      "                     'stage': 'COLLSCAN',\n",
      "                     'works': 6},\n",
      " 'executionSuccess': True,\n",
      " 'executionTimeMillis': 0,\n",
      " 'nReturned': 1,\n",
      " 'totalDocsExamined': 4,\n",
      " 'totalKeysExamined': 0}\n"
     ]
    }
   ],
   "source": [
    "pp.pprint(events.find({\"position.latitude\": 38.64}).explain()['executionStats'])"
   ]
  },
  {
   "cell_type": "code",
   "execution_count": 65,
   "metadata": {
    "id": "lqtYanU4oFAW",
    "outputId": "887fb6ba-b7c0-4d65-978e-072fef4512bf"
   },
   "outputs": [
    {
     "data": {
      "text/plain": [
       "'position.latitude_1'"
      ]
     },
     "execution_count": 65,
     "metadata": {},
     "output_type": "execute_result"
    }
   ],
   "source": [
    "events.create_index('position.latitude')"
   ]
  },
  {
   "cell_type": "code",
   "execution_count": 66,
   "metadata": {
    "id": "-BxCH3_SoFAX",
    "outputId": "915d5f6b-2c46-48b8-ac99-e90c696a9dab"
   },
   "outputs": [
    {
     "data": {
      "text/plain": [
       "{'_id_': {'v': 2, 'key': [('_id', 1)]},\n",
       " 'position.latitude_1': {'v': 2, 'key': [('position.latitude', 1)]}}"
      ]
     },
     "execution_count": 66,
     "metadata": {},
     "output_type": "execute_result"
    }
   ],
   "source": [
    "events.index_information()"
   ]
  },
  {
   "cell_type": "code",
   "execution_count": 67,
   "metadata": {
    "id": "GGm08R5voFAX",
    "outputId": "280d4e09-cf44-4e75-8042-c18a0bb847f5"
   },
   "outputs": [
    {
     "name": "stdout",
     "output_type": "stream",
     "text": [
      "{'allPlansExecution': [],\n",
      " 'executionStages': {'advanced': 1,\n",
      "                     'alreadyHasObj': 0,\n",
      "                     'docsExamined': 1,\n",
      "                     'executionTimeMillisEstimate': 0,\n",
      "                     'inputStage': {'advanced': 1,\n",
      "                                    'direction': 'forward',\n",
      "                                    'dupsDropped': 0,\n",
      "                                    'dupsTested': 0,\n",
      "                                    'executionTimeMillisEstimate': 0,\n",
      "                                    'indexBounds': {'position.latitude': ['[38.64, '\n",
      "                                                                          '38.64]']},\n",
      "                                    'indexName': 'position.latitude_1',\n",
      "                                    'indexVersion': 2,\n",
      "                                    'isEOF': 1,\n",
      "                                    'isMultiKey': False,\n",
      "                                    'isPartial': False,\n",
      "                                    'isSparse': False,\n",
      "                                    'isUnique': False,\n",
      "                                    'keyPattern': {'position.latitude': 1},\n",
      "                                    'keysExamined': 1,\n",
      "                                    'multiKeyPaths': {'position.latitude': []},\n",
      "                                    'nReturned': 1,\n",
      "                                    'needTime': 0,\n",
      "                                    'needYield': 0,\n",
      "                                    'restoreState': 0,\n",
      "                                    'saveState': 0,\n",
      "                                    'seeks': 1,\n",
      "                                    'stage': 'IXSCAN',\n",
      "                                    'works': 2},\n",
      "                     'isEOF': 1,\n",
      "                     'nReturned': 1,\n",
      "                     'needTime': 0,\n",
      "                     'needYield': 0,\n",
      "                     'restoreState': 0,\n",
      "                     'saveState': 0,\n",
      "                     'stage': 'FETCH',\n",
      "                     'works': 2},\n",
      " 'executionSuccess': True,\n",
      " 'executionTimeMillis': 1,\n",
      " 'nReturned': 1,\n",
      " 'totalDocsExamined': 1,\n",
      " 'totalKeysExamined': 1}\n"
     ]
    }
   ],
   "source": [
    "pp.pprint(events.find({\"position.latitude\": 38.64}).explain()['executionStats'])"
   ]
  },
  {
   "cell_type": "code",
   "execution_count": 68,
   "metadata": {
    "colab": {
     "base_uri": "https://localhost:8080/"
    },
    "id": "-R3tOO8LoFAX",
    "outputId": "7e2fffc8-a77a-41c4-d497-1801539cf619"
   },
   "outputs": [
    {
     "name": "stdout",
     "output_type": "stream",
     "text": [
      "Defaulting to user installation because normal site-packages is not writeable\n",
      "Requirement already satisfied: mongoengine in /home/osbdet/.local/lib/python3.9/site-packages (0.27.0)\n",
      "Requirement already satisfied: pymongo<5.0,>=3.4 in /home/osbdet/.local/lib/python3.9/site-packages (from mongoengine) (4.6.0)\n",
      "Requirement already satisfied: dnspython<3.0.0,>=1.16.0 in /home/osbdet/.local/lib/python3.9/site-packages (from pymongo<5.0,>=3.4->mongoengine) (2.4.2)\n",
      "\n",
      "\u001b[1m[\u001b[0m\u001b[34;49mnotice\u001b[0m\u001b[1;39;49m]\u001b[0m\u001b[39;49m A new release of pip available: \u001b[0m\u001b[31;49m22.3.1\u001b[0m\u001b[39;49m -> \u001b[0m\u001b[32;49m23.3.1\u001b[0m\n",
      "\u001b[1m[\u001b[0m\u001b[34;49mnotice\u001b[0m\u001b[1;39;49m]\u001b[0m\u001b[39;49m To update, run: \u001b[0m\u001b[32;49mpython3 -m pip install --upgrade pip\u001b[0m\n"
     ]
    }
   ],
   "source": [
    "!pip3 install mongoengine"
   ]
  },
  {
   "cell_type": "code",
   "execution_count": 89,
   "metadata": {
    "colab": {
     "base_uri": "https://localhost:8080/"
    },
    "id": "eFt8YfFUoFAX",
    "outputId": "ee160d51-fd09-4ebe-9cd8-44b73d222f18"
   },
   "outputs": [
    {
     "data": {
      "text/plain": [
       "MongoClient(host=['localhost:27017'], document_class=dict, tz_aware=False, connect=True, read_preference=Primary(), uuidrepresentation=3)"
      ]
     },
     "execution_count": 89,
     "metadata": {},
     "output_type": "execute_result"
    }
   ],
   "source": [
    "import mongoengine\n",
    "from mongoengine import StringField, ListField, DateTimeField, DictField, IntField, BooleanField\n",
    "\n",
    "mongoengine.disconnect()\n",
    "mongoengine.connect(host = \"mongodb://{0}:27017/{1}\" \\\n",
    "    .format(host, database))"
   ]
  },
  {
   "cell_type": "code",
   "execution_count": 90,
   "metadata": {
    "id": "vCFkg8N7oFAY"
   },
   "outputs": [],
   "source": [
    "class SpeedEvent(mongoengine.Document):\n",
    "    _id = StringField()\n",
    "    event = DictField()\n",
    "    truck = DictField()\n",
    "    driver = DictField()\n",
    "    route = DictField()\n",
    "    speed = IntField   \n",
    "    modified = BooleanField"
   ]
  },
  {
   "cell_type": "code",
   "execution_count": 91,
   "metadata": {
    "colab": {
     "base_uri": "https://localhost:8080/"
    },
    "id": "MyRn_7HMoFAY",
    "outputId": "7c8c9c9b-36a9-4518-8c83-e5c0dd02d144"
   },
   "outputs": [
    {
     "data": {
      "text/plain": [
       "[{'_id': ObjectId('654870ee01044c893ffa8f17'),\n",
       "  'event': {'datetime': datetime.datetime(2017, 5, 1, 12, 38, 42, 799000),\n",
       "   'source': 'speed'},\n",
       "  'truck': {'id': '101'},\n",
       "  'driver': {'id': '13', 'name': 'Suresh Srinivas'},\n",
       "  'route': {'id': '12', 'name': 'Des Moines to Chicago'},\n",
       "  'speed': 80},\n",
       " {'_id': ObjectId('654870ee01044c893ffa8f19'),\n",
       "  'event': {'datetime': datetime.datetime(2017, 5, 1, 12, 38, 42, 801000),\n",
       "   'source': 'speed'},\n",
       "  'truck': {'id': '102'},\n",
       "  'driver': {'id': '10', 'name': 'George Vetticaden'},\n",
       "  'route': {'id': '4', 'name': 'Saint Gobain'},\n",
       "  'speed': 75,\n",
       "  'modified': True}]"
      ]
     },
     "execution_count": 91,
     "metadata": {},
     "output_type": "execute_result"
    }
   ],
   "source": [
    "speed_events_data = events.find({\"event.source\": \"speed\"})\n",
    "speed_events_lst = list(speed_events_data)\n",
    "speed_events_lst"
   ]
  },
  {
   "cell_type": "code",
   "execution_count": 92,
   "metadata": {
    "id": "xuNIHc9koFAY"
   },
   "outputs": [],
   "source": [
    "speed_events_df = pd.DataFrame.from_dict(speed_events_lst)"
   ]
  },
  {
   "cell_type": "code",
   "execution_count": 93,
   "metadata": {
    "colab": {
     "base_uri": "https://localhost:8080/"
    },
    "id": "Donzjj8ooFAY",
    "outputId": "140f63b8-639b-4f2d-d3f5-fa05b29bd02c"
   },
   "outputs": [
    {
     "name": "stdout",
     "output_type": "stream",
     "text": [
      "<class 'pandas.core.frame.DataFrame'>\n",
      "RangeIndex: 2 entries, 0 to 1\n",
      "Data columns (total 7 columns):\n",
      " #   Column    Non-Null Count  Dtype \n",
      "---  ------    --------------  ----- \n",
      " 0   _id       2 non-null      object\n",
      " 1   event     2 non-null      object\n",
      " 2   truck     2 non-null      object\n",
      " 3   driver    2 non-null      object\n",
      " 4   route     2 non-null      object\n",
      " 5   speed     2 non-null      int64 \n",
      " 6   modified  1 non-null      object\n",
      "dtypes: int64(1), object(6)\n",
      "memory usage: 240.0+ bytes\n"
     ]
    }
   ],
   "source": [
    "speed_events_df.info()"
   ]
  },
  {
   "cell_type": "code",
   "execution_count": 94,
   "metadata": {
    "colab": {
     "base_uri": "https://localhost:8080/",
     "height": 143
    },
    "id": "9bjan6K9oFAY",
    "outputId": "90820783-e5ac-4caa-91c5-8496e0a625a6"
   },
   "outputs": [
    {
     "data": {
      "text/html": [
       "<div>\n",
       "<style scoped>\n",
       "    .dataframe tbody tr th:only-of-type {\n",
       "        vertical-align: middle;\n",
       "    }\n",
       "\n",
       "    .dataframe tbody tr th {\n",
       "        vertical-align: top;\n",
       "    }\n",
       "\n",
       "    .dataframe thead th {\n",
       "        text-align: right;\n",
       "    }\n",
       "</style>\n",
       "<table border=\"1\" class=\"dataframe\">\n",
       "  <thead>\n",
       "    <tr style=\"text-align: right;\">\n",
       "      <th></th>\n",
       "      <th>_id</th>\n",
       "      <th>event</th>\n",
       "      <th>truck</th>\n",
       "      <th>driver</th>\n",
       "      <th>route</th>\n",
       "      <th>speed</th>\n",
       "      <th>modified</th>\n",
       "    </tr>\n",
       "  </thead>\n",
       "  <tbody>\n",
       "    <tr>\n",
       "      <th>0</th>\n",
       "      <td>654870ee01044c893ffa8f17</td>\n",
       "      <td>{'datetime': 2017-05-01 12:38:42.799000, 'sour...</td>\n",
       "      <td>{'id': '101'}</td>\n",
       "      <td>{'id': '13', 'name': 'Suresh Srinivas'}</td>\n",
       "      <td>{'id': '12', 'name': 'Des Moines to Chicago'}</td>\n",
       "      <td>80</td>\n",
       "      <td>NaN</td>\n",
       "    </tr>\n",
       "    <tr>\n",
       "      <th>1</th>\n",
       "      <td>654870ee01044c893ffa8f19</td>\n",
       "      <td>{'datetime': 2017-05-01 12:38:42.801000, 'sour...</td>\n",
       "      <td>{'id': '102'}</td>\n",
       "      <td>{'id': '10', 'name': 'George Vetticaden'}</td>\n",
       "      <td>{'id': '4', 'name': 'Saint Gobain'}</td>\n",
       "      <td>75</td>\n",
       "      <td>True</td>\n",
       "    </tr>\n",
       "  </tbody>\n",
       "</table>\n",
       "</div>"
      ],
      "text/plain": [
       "                        _id  \\\n",
       "0  654870ee01044c893ffa8f17   \n",
       "1  654870ee01044c893ffa8f19   \n",
       "\n",
       "                                               event          truck  \\\n",
       "0  {'datetime': 2017-05-01 12:38:42.799000, 'sour...  {'id': '101'}   \n",
       "1  {'datetime': 2017-05-01 12:38:42.801000, 'sour...  {'id': '102'}   \n",
       "\n",
       "                                      driver  \\\n",
       "0    {'id': '13', 'name': 'Suresh Srinivas'}   \n",
       "1  {'id': '10', 'name': 'George Vetticaden'}   \n",
       "\n",
       "                                           route  speed modified  \n",
       "0  {'id': '12', 'name': 'Des Moines to Chicago'}     80      NaN  \n",
       "1            {'id': '4', 'name': 'Saint Gobain'}     75     True  "
      ]
     },
     "execution_count": 94,
     "metadata": {},
     "output_type": "execute_result"
    }
   ],
   "source": [
    "speed_events_df.head()"
   ]
  },
  {
   "cell_type": "code",
   "execution_count": 95,
   "metadata": {
    "colab": {
     "base_uri": "https://localhost:8080/"
    },
    "id": "Kh0e3_rKj0Ot",
    "outputId": "830aae79-65e8-485c-f7f6-36bd23a26548"
   },
   "outputs": [
    {
     "data": {
      "text/plain": [
       "0      {'id': '13', 'name': 'Suresh Srinivas'}\n",
       "1    {'id': '10', 'name': 'George Vetticaden'}\n",
       "Name: driver, dtype: object"
      ]
     },
     "execution_count": 95,
     "metadata": {},
     "output_type": "execute_result"
    }
   ],
   "source": [
    "speed_events_df[\"driver\"]"
   ]
  },
  {
   "cell_type": "code",
   "execution_count": 98,
   "metadata": {
    "colab": {
     "base_uri": "https://localhost:8080/"
    },
    "id": "13DylPHxkXWP",
    "outputId": "155dc6c9-902a-4c54-e394-43d130ec060e"
   },
   "outputs": [
    {
     "data": {
      "text/plain": [
       "0      Suresh Srinivas\n",
       "1    George Vetticaden\n",
       "Name: name, dtype: object"
      ]
     },
     "execution_count": 98,
     "metadata": {},
     "output_type": "execute_result"
    }
   ],
   "source": [
    "speed_events_df[\"driver\"].apply(pd.Series)[\"name\"]"
   ]
  },
  {
   "cell_type": "code",
   "execution_count": 99,
   "metadata": {
    "id": "2y5tf0N7oFAZ",
    "outputId": "fb195077-6564-4eb3-b8da-9f277c0f5202"
   },
   "outputs": [
    {
     "data": {
      "text/html": [
       "<div>\n",
       "<style scoped>\n",
       "    .dataframe tbody tr th:only-of-type {\n",
       "        vertical-align: middle;\n",
       "    }\n",
       "\n",
       "    .dataframe tbody tr th {\n",
       "        vertical-align: top;\n",
       "    }\n",
       "\n",
       "    .dataframe thead th {\n",
       "        text-align: right;\n",
       "    }\n",
       "</style>\n",
       "<table border=\"1\" class=\"dataframe\">\n",
       "  <thead>\n",
       "    <tr style=\"text-align: right;\">\n",
       "      <th></th>\n",
       "      <th>_id</th>\n",
       "      <th>event</th>\n",
       "      <th>truck</th>\n",
       "      <th>driver</th>\n",
       "      <th>route</th>\n",
       "      <th>speed</th>\n",
       "      <th>modified</th>\n",
       "    </tr>\n",
       "  </thead>\n",
       "  <tbody>\n",
       "    <tr>\n",
       "      <th>1</th>\n",
       "      <td>654870ee01044c893ffa8f19</td>\n",
       "      <td>{'datetime': 2017-05-01 12:38:42.801000, 'sour...</td>\n",
       "      <td>{'id': '102'}</td>\n",
       "      <td>{'id': '10', 'name': 'George Vetticaden'}</td>\n",
       "      <td>{'id': '4', 'name': 'Saint Gobain'}</td>\n",
       "      <td>75</td>\n",
       "      <td>True</td>\n",
       "    </tr>\n",
       "  </tbody>\n",
       "</table>\n",
       "</div>"
      ],
      "text/plain": [
       "                        _id  \\\n",
       "1  654870ee01044c893ffa8f19   \n",
       "\n",
       "                                               event          truck  \\\n",
       "1  {'datetime': 2017-05-01 12:38:42.801000, 'sour...  {'id': '102'}   \n",
       "\n",
       "                                      driver  \\\n",
       "1  {'id': '10', 'name': 'George Vetticaden'}   \n",
       "\n",
       "                                 route  speed modified  \n",
       "1  {'id': '4', 'name': 'Saint Gobain'}     75     True  "
      ]
     },
     "execution_count": 99,
     "metadata": {},
     "output_type": "execute_result"
    }
   ],
   "source": [
    "speed_events_df[speed_events_df[\"driver\"].apply(pd.Series)[\"name\"] == 'George Vetticaden']"
   ]
  },
  {
   "cell_type": "code",
   "execution_count": null,
   "metadata": {},
   "outputs": [],
   "source": []
  }
 ],
 "metadata": {
  "colab": {
   "provenance": []
  },
  "kernelspec": {
   "display_name": "Python 3 (ipykernel)",
   "language": "python",
   "name": "python3"
  },
  "language_info": {
   "codemirror_mode": {
    "name": "ipython",
    "version": 3
   },
   "file_extension": ".py",
   "mimetype": "text/x-python",
   "name": "python",
   "nbconvert_exporter": "python",
   "pygments_lexer": "ipython3",
   "version": "3.9.2"
  }
 },
 "nbformat": 4,
 "nbformat_minor": 1
}
